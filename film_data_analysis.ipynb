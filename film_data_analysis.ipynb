{
 "cells": [
  {
   "cell_type": "markdown",
   "id": "7367d47c-1782-43c6-8f9f-3fd86f7f696c",
   "metadata": {},
   "source": [
    "# Data Analysis"
   ]
  },
  {
   "cell_type": "code",
   "execution_count": 19,
   "id": "b4e59b48-d1c5-49d4-95de-b15ac5aa153b",
   "metadata": {
    "ExecuteTime": {
     "end_time": "2025-05-29T14:56:27.763885Z",
     "start_time": "2025-05-29T14:56:27.759973Z"
    }
   },
   "outputs": [],
   "source": [
    "from filmsdk_ibrahim import MovieClient, MovieConfig\n",
    "import time\n",
    "import pandas as pd"
   ]
  },
  {
   "cell_type": "code",
   "execution_count": 39,
   "id": "5a5e8ff9-fb3b-4299-93a1-f6326161d842",
   "metadata": {
    "ExecuteTime": {
     "end_time": "2025-05-29T15:10:09.737714Z",
     "start_time": "2025-05-29T15:10:08.903048Z"
    }
   },
   "outputs": [
    {
     "name": "stdout",
     "output_type": "stream",
     "text": [
      "MOVIE_API_BASE_URL in MovieConfig init: https://backend-cinema-96tw.onrender.com\n"
     ]
    },
    {
     "data": {
      "text/plain": "{'message': 'api is working well'}"
     },
     "execution_count": 39,
     "metadata": {},
     "output_type": "execute_result"
    }
   ],
   "source": [
    "# API Connection\n",
    "\n",
    "config = MovieConfig(movie_base_url=\"http://localhost\")\n",
    "client = MovieClient(config=config)\n",
    "\n",
    "client.health_check()"
   ]
  },
  {
   "cell_type": "code",
   "execution_count": 22,
   "id": "c4950d12-5af0-493d-8031-afef8132ce82",
   "metadata": {
    "ExecuteTime": {
     "end_time": "2025-05-29T14:57:13.142704Z",
     "start_time": "2025-05-29T14:57:12.557444Z"
    }
   },
   "outputs": [
    {
     "name": "stdout",
     "output_type": "stream",
     "text": [
      "Ttile : Toy Story (1995)\n",
      "Genre : Adventure|Animation|Children|Comedy|Fantasy\n"
     ]
    }
   ],
   "source": [
    "# Test of getting a film\n",
    "movie = client.get_movie(1)\n",
    "print(f\"Ttile : {movie.title}\")\n",
    "print(f\"Genre : {movie.genres}\")"
   ]
  },
  {
   "cell_type": "code",
   "execution_count": 23,
   "id": "a4e08b0c-19ec-4099-9d8e-0f8a7cd738eb",
   "metadata": {
    "ExecuteTime": {
     "end_time": "2025-05-29T14:57:15.136869Z",
     "start_time": "2025-05-29T14:57:14.588317Z"
    }
   },
   "outputs": [
    {
     "data": {
      "text/plain": "    userId  movieId  rating  timestamp\n0        1        1     4.0  964982703\n1        1        3     4.0  964981247\n2        1        6     4.0  964982224\n3        1       47     5.0  964983815\n4        1       50     5.0  964982931\n..     ...      ...     ...        ...\n95       1     1445     3.0  964984112\n96       1     1473     4.0  964980875\n97       1     1500     4.0  964980985\n98       1     1517     5.0  964981107\n99       1     1552     4.0  964982620\n\n[100 rows x 4 columns]",
      "text/html": "<div>\n<style scoped>\n    .dataframe tbody tr th:only-of-type {\n        vertical-align: middle;\n    }\n\n    .dataframe tbody tr th {\n        vertical-align: top;\n    }\n\n    .dataframe thead th {\n        text-align: right;\n    }\n</style>\n<table border=\"1\" class=\"dataframe\">\n  <thead>\n    <tr style=\"text-align: right;\">\n      <th></th>\n      <th>userId</th>\n      <th>movieId</th>\n      <th>rating</th>\n      <th>timestamp</th>\n    </tr>\n  </thead>\n  <tbody>\n    <tr>\n      <th>0</th>\n      <td>1</td>\n      <td>1</td>\n      <td>4.0</td>\n      <td>964982703</td>\n    </tr>\n    <tr>\n      <th>1</th>\n      <td>1</td>\n      <td>3</td>\n      <td>4.0</td>\n      <td>964981247</td>\n    </tr>\n    <tr>\n      <th>2</th>\n      <td>1</td>\n      <td>6</td>\n      <td>4.0</td>\n      <td>964982224</td>\n    </tr>\n    <tr>\n      <th>3</th>\n      <td>1</td>\n      <td>47</td>\n      <td>5.0</td>\n      <td>964983815</td>\n    </tr>\n    <tr>\n      <th>4</th>\n      <td>1</td>\n      <td>50</td>\n      <td>5.0</td>\n      <td>964982931</td>\n    </tr>\n    <tr>\n      <th>...</th>\n      <td>...</td>\n      <td>...</td>\n      <td>...</td>\n      <td>...</td>\n    </tr>\n    <tr>\n      <th>95</th>\n      <td>1</td>\n      <td>1445</td>\n      <td>3.0</td>\n      <td>964984112</td>\n    </tr>\n    <tr>\n      <th>96</th>\n      <td>1</td>\n      <td>1473</td>\n      <td>4.0</td>\n      <td>964980875</td>\n    </tr>\n    <tr>\n      <th>97</th>\n      <td>1</td>\n      <td>1500</td>\n      <td>4.0</td>\n      <td>964980985</td>\n    </tr>\n    <tr>\n      <th>98</th>\n      <td>1</td>\n      <td>1517</td>\n      <td>5.0</td>\n      <td>964981107</td>\n    </tr>\n    <tr>\n      <th>99</th>\n      <td>1</td>\n      <td>1552</td>\n      <td>4.0</td>\n      <td>964982620</td>\n    </tr>\n  </tbody>\n</table>\n<p>100 rows × 4 columns</p>\n</div>"
     },
     "execution_count": 23,
     "metadata": {},
     "output_type": "execute_result"
    }
   ],
   "source": [
    "# Get ratings (limit = 100)\n",
    "ratings_df = client.list_ratings(output_format=\"pandas\")\n",
    "ratings_df"
   ]
  },
  {
   "cell_type": "code",
   "execution_count": 24,
   "id": "a9153b06-c920-4cae-9fb6-9b8c05858cd9",
   "metadata": {
    "ExecuteTime": {
     "end_time": "2025-05-29T14:57:18.389294Z",
     "start_time": "2025-05-29T14:57:18.378702Z"
    }
   },
   "outputs": [
    {
     "name": "stdout",
     "output_type": "stream",
     "text": [
      "<class 'pandas.core.frame.DataFrame'>\n",
      "RangeIndex: 100 entries, 0 to 99\n",
      "Data columns (total 4 columns):\n",
      " #   Column     Non-Null Count  Dtype  \n",
      "---  ------     --------------  -----  \n",
      " 0   userId     100 non-null    int64  \n",
      " 1   movieId    100 non-null    int64  \n",
      " 2   rating     100 non-null    float64\n",
      " 3   timestamp  100 non-null    int64  \n",
      "dtypes: float64(1), int64(3)\n",
      "memory usage: 3.3 KB\n"
     ]
    }
   ],
   "source": [
    "# Get df infos\n",
    "ratings_df.info()"
   ]
  },
  {
   "cell_type": "code",
   "execution_count": 25,
   "id": "7af0fd98-e7ff-4460-8c86-98b1dc5b111e",
   "metadata": {
    "ExecuteTime": {
     "end_time": "2025-05-29T14:57:21.467077Z",
     "start_time": "2025-05-29T14:57:20.782559Z"
    }
   },
   "outputs": [
    {
     "name": "stdout",
     "output_type": "stream",
     "text": [
      "movie_count=9742 rating_count=100836 tag_count=3683 link_count=9742\n"
     ]
    }
   ],
   "source": [
    "# Get statistics\n",
    "analytics = client.get_analytics()\n",
    "print(analytics)"
   ]
  },
  {
   "cell_type": "code",
   "execution_count": 26,
   "id": "f276ffea-1a0a-41dc-809b-98f5df09f0a8",
   "metadata": {
    "ExecuteTime": {
     "end_time": "2025-05-29T14:57:23.950808Z",
     "start_time": "2025-05-29T14:57:23.944245Z"
    }
   },
   "outputs": [
    {
     "data": {
      "text/plain": "100836"
     },
     "execution_count": 26,
     "metadata": {},
     "output_type": "execute_result"
    }
   ],
   "source": [
    "# Get total ratings\n",
    "total_ratings = analytics.rating_count\n",
    "total_ratings"
   ]
  },
  {
   "cell_type": "code",
   "execution_count": 27,
   "id": "18862791-019b-4032-88d2-21000f7997bf",
   "metadata": {
    "ExecuteTime": {
     "end_time": "2025-05-29T14:59:18.062025Z",
     "start_time": "2025-05-29T14:57:25.578911Z"
    }
   },
   "outputs": [
    {
     "name": "stdout",
     "output_type": "stream",
     "text": [
      "Get lines from 0 to 1000...\n",
      "Get lines from 1000 to 2000...\n",
      "Get lines from 2000 to 3000...\n",
      "Get lines from 3000 to 4000...\n",
      "Get lines from 4000 to 5000...\n",
      "Get lines from 5000 to 6000...\n",
      "Get lines from 6000 to 7000...\n",
      "Get lines from 7000 to 8000...\n",
      "Get lines from 8000 to 9000...\n",
      "Get lines from 9000 to 10000...\n",
      "Get lines from 10000 to 11000...\n",
      "Get lines from 11000 to 12000...\n",
      "Get lines from 12000 to 13000...\n",
      "Get lines from 13000 to 14000...\n",
      "Get lines from 14000 to 15000...\n",
      "Get lines from 15000 to 16000...\n",
      "Get lines from 16000 to 17000...\n",
      "Get lines from 17000 to 18000...\n",
      "Get lines from 18000 to 19000...\n",
      "Get lines from 19000 to 20000...\n",
      "Get lines from 20000 to 21000...\n",
      "Get lines from 21000 to 22000...\n",
      "Get lines from 22000 to 23000...\n",
      "Get lines from 23000 to 24000...\n",
      "Get lines from 24000 to 25000...\n",
      "Get lines from 25000 to 26000...\n",
      "Get lines from 26000 to 27000...\n",
      "Get lines from 27000 to 28000...\n",
      "Get lines from 28000 to 29000...\n",
      "Get lines from 29000 to 30000...\n",
      "Get lines from 30000 to 31000...\n",
      "Get lines from 31000 to 32000...\n",
      "Get lines from 32000 to 33000...\n",
      "Get lines from 33000 to 34000...\n",
      "Get lines from 34000 to 35000...\n",
      "Get lines from 35000 to 36000...\n",
      "Get lines from 36000 to 37000...\n",
      "Get lines from 37000 to 38000...\n",
      "Get lines from 38000 to 39000...\n",
      "Get lines from 39000 to 40000...\n",
      "Get lines from 40000 to 41000...\n",
      "Get lines from 41000 to 42000...\n",
      "Get lines from 42000 to 43000...\n",
      "Get lines from 43000 to 44000...\n",
      "Get lines from 44000 to 45000...\n",
      "Get lines from 45000 to 46000...\n",
      "Get lines from 46000 to 47000...\n",
      "Get lines from 47000 to 48000...\n",
      "Get lines from 48000 to 49000...\n",
      "Get lines from 49000 to 50000...\n",
      "Get lines from 50000 to 51000...\n",
      "Get lines from 51000 to 52000...\n",
      "Get lines from 52000 to 53000...\n",
      "Get lines from 53000 to 54000...\n",
      "Get lines from 54000 to 55000...\n",
      "Get lines from 55000 to 56000...\n",
      "Get lines from 56000 to 57000...\n",
      "Get lines from 57000 to 58000...\n",
      "Get lines from 58000 to 59000...\n",
      "Get lines from 59000 to 60000...\n",
      "Get lines from 60000 to 61000...\n",
      "Get lines from 61000 to 62000...\n",
      "Get lines from 62000 to 63000...\n",
      "Get lines from 63000 to 64000...\n",
      "Get lines from 64000 to 65000...\n",
      "Get lines from 65000 to 66000...\n",
      "Get lines from 66000 to 67000...\n",
      "Get lines from 67000 to 68000...\n",
      "Get lines from 68000 to 69000...\n",
      "Get lines from 69000 to 70000...\n",
      "Get lines from 70000 to 71000...\n",
      "Get lines from 71000 to 72000...\n",
      "Get lines from 72000 to 73000...\n",
      "Get lines from 73000 to 74000...\n",
      "Get lines from 74000 to 75000...\n",
      "Get lines from 75000 to 76000...\n",
      "Get lines from 76000 to 77000...\n",
      "Get lines from 77000 to 78000...\n",
      "Get lines from 78000 to 79000...\n",
      "Get lines from 79000 to 80000...\n",
      "Get lines from 80000 to 81000...\n",
      "Get lines from 81000 to 82000...\n",
      "Get lines from 82000 to 83000...\n",
      "Get lines from 83000 to 84000...\n",
      "Get lines from 84000 to 85000...\n",
      "Get lines from 85000 to 86000...\n",
      "Get lines from 86000 to 87000...\n",
      "Get lines from 87000 to 88000...\n",
      "Get lines from 88000 to 89000...\n",
      "Get lines from 89000 to 90000...\n",
      "Get lines from 90000 to 91000...\n",
      "Get lines from 91000 to 92000...\n",
      "Get lines from 92000 to 93000...\n",
      "Get lines from 93000 to 94000...\n",
      "Get lines from 94000 to 95000...\n",
      "Get lines from 95000 to 96000...\n",
      "Get lines from 96000 to 97000...\n",
      "Get lines from 97000 to 98000...\n",
      "Get lines from 98000 to 99000...\n",
      "Get lines from 99000 to 100000...\n",
      "Get lines from 100000 to 101000...\n"
     ]
    },
    {
     "data": {
      "text/plain": "        userId  movieId  rating   timestamp\n0            1        1     4.0   964982703\n1            1        3     4.0   964981247\n2            1        6     4.0   964982224\n3            1       47     5.0   964983815\n4            1       50     5.0   964982931\n...        ...      ...     ...         ...\n100831     610   166534     4.0  1493848402\n100832     610   168248     5.0  1493850091\n100833     610   168250     5.0  1494273047\n100834     610   168252     5.0  1493846352\n100835     610   170875     3.0  1493846415\n\n[100836 rows x 4 columns]",
      "text/html": "<div>\n<style scoped>\n    .dataframe tbody tr th:only-of-type {\n        vertical-align: middle;\n    }\n\n    .dataframe tbody tr th {\n        vertical-align: top;\n    }\n\n    .dataframe thead th {\n        text-align: right;\n    }\n</style>\n<table border=\"1\" class=\"dataframe\">\n  <thead>\n    <tr style=\"text-align: right;\">\n      <th></th>\n      <th>userId</th>\n      <th>movieId</th>\n      <th>rating</th>\n      <th>timestamp</th>\n    </tr>\n  </thead>\n  <tbody>\n    <tr>\n      <th>0</th>\n      <td>1</td>\n      <td>1</td>\n      <td>4.0</td>\n      <td>964982703</td>\n    </tr>\n    <tr>\n      <th>1</th>\n      <td>1</td>\n      <td>3</td>\n      <td>4.0</td>\n      <td>964981247</td>\n    </tr>\n    <tr>\n      <th>2</th>\n      <td>1</td>\n      <td>6</td>\n      <td>4.0</td>\n      <td>964982224</td>\n    </tr>\n    <tr>\n      <th>3</th>\n      <td>1</td>\n      <td>47</td>\n      <td>5.0</td>\n      <td>964983815</td>\n    </tr>\n    <tr>\n      <th>4</th>\n      <td>1</td>\n      <td>50</td>\n      <td>5.0</td>\n      <td>964982931</td>\n    </tr>\n    <tr>\n      <th>...</th>\n      <td>...</td>\n      <td>...</td>\n      <td>...</td>\n      <td>...</td>\n    </tr>\n    <tr>\n      <th>100831</th>\n      <td>610</td>\n      <td>166534</td>\n      <td>4.0</td>\n      <td>1493848402</td>\n    </tr>\n    <tr>\n      <th>100832</th>\n      <td>610</td>\n      <td>168248</td>\n      <td>5.0</td>\n      <td>1493850091</td>\n    </tr>\n    <tr>\n      <th>100833</th>\n      <td>610</td>\n      <td>168250</td>\n      <td>5.0</td>\n      <td>1494273047</td>\n    </tr>\n    <tr>\n      <th>100834</th>\n      <td>610</td>\n      <td>168252</td>\n      <td>5.0</td>\n      <td>1493846352</td>\n    </tr>\n    <tr>\n      <th>100835</th>\n      <td>610</td>\n      <td>170875</td>\n      <td>3.0</td>\n      <td>1493846415</td>\n    </tr>\n  </tbody>\n</table>\n<p>100836 rows × 4 columns</p>\n</div>"
     },
     "execution_count": 27,
     "metadata": {},
     "output_type": "execute_result"
    }
   ],
   "source": [
    "# Get all ratings\n",
    "total_ratings = client.get_analytics().rating_count\n",
    "batch_size = 1000\n",
    "all_ratings = []\n",
    "\n",
    "for skip in range(0, total_ratings, batch_size):\n",
    "    print(f\"Get lines from {skip} to {skip + batch_size}...\")\n",
    "    batch_df = client.list_ratings(skip=skip, limit=batch_size, output_format=\"pandas\")\n",
    "    all_ratings.append(batch_df)\n",
    "    time.sleep(0.5)\n",
    "\n",
    "complete_ratings_df = pd.concat(all_ratings, ignore_index=True)\n",
    "\n",
    "complete_ratings_df"
   ]
  },
  {
   "cell_type": "code",
   "execution_count": 29,
   "id": "a22ee855-a57f-4b20-8e48-c3eb93f2c684",
   "metadata": {
    "ExecuteTime": {
     "end_time": "2025-05-29T14:59:38.164185Z",
     "start_time": "2025-05-29T14:59:38.153196Z"
    }
   },
   "outputs": [
    {
     "name": "stdout",
     "output_type": "stream",
     "text": [
      "<class 'pandas.core.frame.DataFrame'>\n",
      "RangeIndex: 100836 entries, 0 to 100835\n",
      "Data columns (total 4 columns):\n",
      " #   Column     Non-Null Count   Dtype  \n",
      "---  ------     --------------   -----  \n",
      " 0   userId     100836 non-null  int64  \n",
      " 1   movieId    100836 non-null  int64  \n",
      " 2   rating     100836 non-null  float64\n",
      " 3   timestamp  100836 non-null  int64  \n",
      "dtypes: float64(1), int64(3)\n",
      "memory usage: 3.1 MB\n"
     ]
    }
   ],
   "source": [
    "complete_ratings_df.info()"
   ]
  },
  {
   "cell_type": "code",
   "execution_count": 30,
   "id": "68362661-6110-492e-86aa-7bf2afc66c7a",
   "metadata": {
    "ExecuteTime": {
     "end_time": "2025-05-29T14:59:40.190020Z",
     "start_time": "2025-05-29T14:59:40.178396Z"
    }
   },
   "outputs": [
    {
     "data": {
      "text/plain": "     userId  rating_count\n0       414          2698\n1       599          2478\n2       474          2108\n3       448          1864\n4       274          1346\n..      ...           ...\n605     320            20\n606     207            20\n607     257            20\n608     569            20\n609     576            20\n\n[610 rows x 2 columns]",
      "text/html": "<div>\n<style scoped>\n    .dataframe tbody tr th:only-of-type {\n        vertical-align: middle;\n    }\n\n    .dataframe tbody tr th {\n        vertical-align: top;\n    }\n\n    .dataframe thead th {\n        text-align: right;\n    }\n</style>\n<table border=\"1\" class=\"dataframe\">\n  <thead>\n    <tr style=\"text-align: right;\">\n      <th></th>\n      <th>userId</th>\n      <th>rating_count</th>\n    </tr>\n  </thead>\n  <tbody>\n    <tr>\n      <th>0</th>\n      <td>414</td>\n      <td>2698</td>\n    </tr>\n    <tr>\n      <th>1</th>\n      <td>599</td>\n      <td>2478</td>\n    </tr>\n    <tr>\n      <th>2</th>\n      <td>474</td>\n      <td>2108</td>\n    </tr>\n    <tr>\n      <th>3</th>\n      <td>448</td>\n      <td>1864</td>\n    </tr>\n    <tr>\n      <th>4</th>\n      <td>274</td>\n      <td>1346</td>\n    </tr>\n    <tr>\n      <th>...</th>\n      <td>...</td>\n      <td>...</td>\n    </tr>\n    <tr>\n      <th>605</th>\n      <td>320</td>\n      <td>20</td>\n    </tr>\n    <tr>\n      <th>606</th>\n      <td>207</td>\n      <td>20</td>\n    </tr>\n    <tr>\n      <th>607</th>\n      <td>257</td>\n      <td>20</td>\n    </tr>\n    <tr>\n      <th>608</th>\n      <td>569</td>\n      <td>20</td>\n    </tr>\n    <tr>\n      <th>609</th>\n      <td>576</td>\n      <td>20</td>\n    </tr>\n  </tbody>\n</table>\n<p>610 rows × 2 columns</p>\n</div>"
     },
     "execution_count": 30,
     "metadata": {},
     "output_type": "execute_result"
    }
   ],
   "source": [
    "# Get ratings by user\n",
    "ratings_per_user = complete_ratings_df['userId'].value_counts().rename_axis('userId').reset_index(name='rating_count')\n",
    "\n",
    "ratings_per_user"
   ]
  },
  {
   "cell_type": "markdown",
   "id": "c8e8fe29-a88a-4076-b0c2-493408509399",
   "metadata": {},
   "source": [
    "## Relevent Business Question "
   ]
  },
  {
   "cell_type": "markdown",
   "id": "3a90bac9-ffde-4036-9679-b0f383f0dee6",
   "metadata": {},
   "source": [
    "### Which film genres do users tag most positively (rating ≥ 4.0), and what are the most frequent tags associated with these genres?\n",
    "\n",
    "Why is this relevant?\n",
    "It helps understand user preferences not only through ratings but also through the qualitative tags they add.\n",
    "\n",
    "A marketing analyst or a recommendation algorithm can use this information to:\n",
    "\n",
    "-recommend similar movies,\n",
    "\n",
    "-optimize movie classification,\n",
    "\n",
    "-better understand the “moods” or intentions behind high ratings.\n",
    "\n",
    "### Required data (via SDK + API):\n",
    "-ratings: to filter for high ratings (rating ≥ 4.0).\n",
    "\n",
    "-tags: to see which tags are used on the same (userId, movieId) pairs.\n",
    "\n",
    "-movies: to enrich with the corresponding genres.\n",
    "\n",
    "### Main steps:\n",
    "-List all ratings ≥ 4.0 (in batches if necessary).\n",
    "\n",
    "-For each filtered (user_id, movieId), try to retrieve a tag via client.get_tag(...) or by listing all tags and matching.\n",
    "\n",
    "-Retrieve the movie genres via client.get_movie(movieId).\n",
    "\n",
    "-Aggregate: genre -- tag -- frequency."
   ]
  },
  {
   "cell_type": "code",
   "execution_count": 31,
   "id": "d11ba7c2-86d9-4ef0-a82b-4a2ba8cdadf6",
   "metadata": {
    "ExecuteTime": {
     "end_time": "2025-05-29T15:00:36.662577Z",
     "start_time": "2025-05-29T14:59:44.101081Z"
    }
   },
   "outputs": [
    {
     "name": "stdout",
     "output_type": "stream",
     "text": [
      "(48580, 4)\n"
     ]
    },
    {
     "data": {
      "text/plain": "       userId  movieId  rating   timestamp\n0           1        1     4.0   964982703\n1           1        3     4.0   964981247\n2           1        6     4.0   964982224\n3           1       47     5.0   964983815\n4           1       50     5.0   964982931\n...       ...      ...     ...         ...\n48575     610   166528     4.0  1493879365\n48576     610   166534     4.0  1493848402\n48577     610   168248     5.0  1493850091\n48578     610   168250     5.0  1494273047\n48579     610   168252     5.0  1493846352\n\n[48580 rows x 4 columns]",
      "text/html": "<div>\n<style scoped>\n    .dataframe tbody tr th:only-of-type {\n        vertical-align: middle;\n    }\n\n    .dataframe tbody tr th {\n        vertical-align: top;\n    }\n\n    .dataframe thead th {\n        text-align: right;\n    }\n</style>\n<table border=\"1\" class=\"dataframe\">\n  <thead>\n    <tr style=\"text-align: right;\">\n      <th></th>\n      <th>userId</th>\n      <th>movieId</th>\n      <th>rating</th>\n      <th>timestamp</th>\n    </tr>\n  </thead>\n  <tbody>\n    <tr>\n      <th>0</th>\n      <td>1</td>\n      <td>1</td>\n      <td>4.0</td>\n      <td>964982703</td>\n    </tr>\n    <tr>\n      <th>1</th>\n      <td>1</td>\n      <td>3</td>\n      <td>4.0</td>\n      <td>964981247</td>\n    </tr>\n    <tr>\n      <th>2</th>\n      <td>1</td>\n      <td>6</td>\n      <td>4.0</td>\n      <td>964982224</td>\n    </tr>\n    <tr>\n      <th>3</th>\n      <td>1</td>\n      <td>47</td>\n      <td>5.0</td>\n      <td>964983815</td>\n    </tr>\n    <tr>\n      <th>4</th>\n      <td>1</td>\n      <td>50</td>\n      <td>5.0</td>\n      <td>964982931</td>\n    </tr>\n    <tr>\n      <th>...</th>\n      <td>...</td>\n      <td>...</td>\n      <td>...</td>\n      <td>...</td>\n    </tr>\n    <tr>\n      <th>48575</th>\n      <td>610</td>\n      <td>166528</td>\n      <td>4.0</td>\n      <td>1493879365</td>\n    </tr>\n    <tr>\n      <th>48576</th>\n      <td>610</td>\n      <td>166534</td>\n      <td>4.0</td>\n      <td>1493848402</td>\n    </tr>\n    <tr>\n      <th>48577</th>\n      <td>610</td>\n      <td>168248</td>\n      <td>5.0</td>\n      <td>1493850091</td>\n    </tr>\n    <tr>\n      <th>48578</th>\n      <td>610</td>\n      <td>168250</td>\n      <td>5.0</td>\n      <td>1494273047</td>\n    </tr>\n    <tr>\n      <th>48579</th>\n      <td>610</td>\n      <td>168252</td>\n      <td>5.0</td>\n      <td>1493846352</td>\n    </tr>\n  </tbody>\n</table>\n<p>48580 rows × 4 columns</p>\n</div>"
     },
     "execution_count": 31,
     "metadata": {},
     "output_type": "execute_result"
    }
   ],
   "source": [
    "# Step 1: Retrieve high ratings (rating >= 4.0) in batches\n",
    "\n",
    "chunk_size = 1000\n",
    "skip = 0\n",
    "all_high_ratings = []\n",
    "\n",
    "while True:\n",
    "    chunk = client.list_ratings(\n",
    "        skip=skip,\n",
    "        limit=chunk_size,\n",
    "        min_rating=4.0,\n",
    "        output_format=\"pandas\"\n",
    "    )\n",
    "    \n",
    "    if chunk.empty:\n",
    "        break\n",
    "    \n",
    "    all_high_ratings.append(chunk)\n",
    "    skip += chunk_size\n",
    "    time.sleep(0.5)  # Pause between calls to avoid errors\n",
    "\n",
    "# Merge all chunks\n",
    "high_ratings_df = pd.concat(all_high_ratings, ignore_index=True)\n",
    "print(high_ratings_df.shape)\n",
    "high_ratings_df\n"
   ]
  },
  {
   "cell_type": "code",
   "execution_count": 32,
   "id": "e1f5c348-e526-4e9c-9a88-699a3443fadd",
   "metadata": {
    "ExecuteTime": {
     "end_time": "2025-05-29T15:00:41.077214Z",
     "start_time": "2025-05-29T15:00:41.062422Z"
    }
   },
   "outputs": [
    {
     "data": {
      "text/plain": "       userId  movieId\n0           1        1\n1           1        3\n2           1        6\n3           1       47\n4           1       50\n...       ...      ...\n48575     610   166528\n48576     610   166534\n48577     610   168248\n48578     610   168250\n48579     610   168252\n\n[48580 rows x 2 columns]",
      "text/html": "<div>\n<style scoped>\n    .dataframe tbody tr th:only-of-type {\n        vertical-align: middle;\n    }\n\n    .dataframe tbody tr th {\n        vertical-align: top;\n    }\n\n    .dataframe thead th {\n        text-align: right;\n    }\n</style>\n<table border=\"1\" class=\"dataframe\">\n  <thead>\n    <tr style=\"text-align: right;\">\n      <th></th>\n      <th>userId</th>\n      <th>movieId</th>\n    </tr>\n  </thead>\n  <tbody>\n    <tr>\n      <th>0</th>\n      <td>1</td>\n      <td>1</td>\n    </tr>\n    <tr>\n      <th>1</th>\n      <td>1</td>\n      <td>3</td>\n    </tr>\n    <tr>\n      <th>2</th>\n      <td>1</td>\n      <td>6</td>\n    </tr>\n    <tr>\n      <th>3</th>\n      <td>1</td>\n      <td>47</td>\n    </tr>\n    <tr>\n      <th>4</th>\n      <td>1</td>\n      <td>50</td>\n    </tr>\n    <tr>\n      <th>...</th>\n      <td>...</td>\n      <td>...</td>\n    </tr>\n    <tr>\n      <th>48575</th>\n      <td>610</td>\n      <td>166528</td>\n    </tr>\n    <tr>\n      <th>48576</th>\n      <td>610</td>\n      <td>166534</td>\n    </tr>\n    <tr>\n      <th>48577</th>\n      <td>610</td>\n      <td>168248</td>\n    </tr>\n    <tr>\n      <th>48578</th>\n      <td>610</td>\n      <td>168250</td>\n    </tr>\n    <tr>\n      <th>48579</th>\n      <td>610</td>\n      <td>168252</td>\n    </tr>\n  </tbody>\n</table>\n<p>48580 rows × 2 columns</p>\n</div>"
     },
     "execution_count": 32,
     "metadata": {},
     "output_type": "execute_result"
    }
   ],
   "source": [
    "# Step 2: Identify unique (userId, movieId) pairs\n",
    "\n",
    "user_movie_pairs = high_ratings_df[['userId', 'movieId']].drop_duplicates()\n",
    "user_movie_pairs"
   ]
  },
  {
   "cell_type": "code",
   "execution_count": 33,
   "id": "3302d197-6df7-4bcf-ac77-52e6c40d375e",
   "metadata": {
    "ExecuteTime": {
     "end_time": "2025-05-29T15:00:47.835370Z",
     "start_time": "2025-05-29T15:00:43.406707Z"
    }
   },
   "outputs": [
    {
     "data": {
      "text/plain": "      userId  movieId               tag   timestamp\n0          2    60756             funny  1445714994\n1          2    60756   Highly quotable  1445714996\n2          2    60756      will ferrell  1445714992\n3          2    89774      Boxing story  1445715207\n4          2    89774               MMA  1445715200\n...      ...      ...               ...         ...\n3678     606     7382         for katie  1171234019\n3679     606     7936           austere  1173392334\n3680     610     3265            gun fu  1493843984\n3681     610     3265  heroic bloodshed  1493843978\n3682     610   168248  Heroic Bloodshed  1493844270\n\n[3683 rows x 4 columns]",
      "text/html": "<div>\n<style scoped>\n    .dataframe tbody tr th:only-of-type {\n        vertical-align: middle;\n    }\n\n    .dataframe tbody tr th {\n        vertical-align: top;\n    }\n\n    .dataframe thead th {\n        text-align: right;\n    }\n</style>\n<table border=\"1\" class=\"dataframe\">\n  <thead>\n    <tr style=\"text-align: right;\">\n      <th></th>\n      <th>userId</th>\n      <th>movieId</th>\n      <th>tag</th>\n      <th>timestamp</th>\n    </tr>\n  </thead>\n  <tbody>\n    <tr>\n      <th>0</th>\n      <td>2</td>\n      <td>60756</td>\n      <td>funny</td>\n      <td>1445714994</td>\n    </tr>\n    <tr>\n      <th>1</th>\n      <td>2</td>\n      <td>60756</td>\n      <td>Highly quotable</td>\n      <td>1445714996</td>\n    </tr>\n    <tr>\n      <th>2</th>\n      <td>2</td>\n      <td>60756</td>\n      <td>will ferrell</td>\n      <td>1445714992</td>\n    </tr>\n    <tr>\n      <th>3</th>\n      <td>2</td>\n      <td>89774</td>\n      <td>Boxing story</td>\n      <td>1445715207</td>\n    </tr>\n    <tr>\n      <th>4</th>\n      <td>2</td>\n      <td>89774</td>\n      <td>MMA</td>\n      <td>1445715200</td>\n    </tr>\n    <tr>\n      <th>...</th>\n      <td>...</td>\n      <td>...</td>\n      <td>...</td>\n      <td>...</td>\n    </tr>\n    <tr>\n      <th>3678</th>\n      <td>606</td>\n      <td>7382</td>\n      <td>for katie</td>\n      <td>1171234019</td>\n    </tr>\n    <tr>\n      <th>3679</th>\n      <td>606</td>\n      <td>7936</td>\n      <td>austere</td>\n      <td>1173392334</td>\n    </tr>\n    <tr>\n      <th>3680</th>\n      <td>610</td>\n      <td>3265</td>\n      <td>gun fu</td>\n      <td>1493843984</td>\n    </tr>\n    <tr>\n      <th>3681</th>\n      <td>610</td>\n      <td>3265</td>\n      <td>heroic bloodshed</td>\n      <td>1493843978</td>\n    </tr>\n    <tr>\n      <th>3682</th>\n      <td>610</td>\n      <td>168248</td>\n      <td>Heroic Bloodshed</td>\n      <td>1493844270</td>\n    </tr>\n  </tbody>\n</table>\n<p>3683 rows × 4 columns</p>\n</div>"
     },
     "execution_count": 33,
     "metadata": {},
     "output_type": "execute_result"
    }
   ],
   "source": [
    "# Step 3: Retrieve the corresponding tags\n",
    "\n",
    "all_tags = []\n",
    "skip = 0\n",
    "chunk_size = 1000\n",
    "while True:\n",
    "    tag_chunk = client.list_tags(skip=skip, limit=chunk_size, output_format=\"pandas\")\n",
    "    if tag_chunk.empty:\n",
    "        break\n",
    "    all_tags.append(tag_chunk)\n",
    "    skip += chunk_size\n",
    "    time.sleep(0.5)\n",
    "\n",
    "all_tags_df = pd.concat(all_tags, ignore_index=True)\n",
    "\n",
    "all_tags_df"
   ]
  },
  {
   "cell_type": "code",
   "execution_count": 34,
   "id": "261692c3-4fa1-412d-a9cd-5a1a83511d9a",
   "metadata": {
    "ExecuteTime": {
     "end_time": "2025-05-29T15:00:50.383368Z",
     "start_time": "2025-05-29T15:00:50.360960Z"
    }
   },
   "outputs": [
    {
     "name": "stdout",
     "output_type": "stream",
     "text": [
      "(2378, 4)\n"
     ]
    },
    {
     "data": {
      "text/plain": "      userId  movieId               tag   timestamp\n0          2    60756             funny  1445714994\n1          2    60756   Highly quotable  1445714996\n2          2    60756      will ferrell  1445714992\n3          2    89774      Boxing story  1445715207\n4          2    89774               MMA  1445715200\n...      ...      ...               ...         ...\n2373     606     6107      World War II  1178473747\n2374     606     7382         for katie  1171234019\n2375     610     3265            gun fu  1493843984\n2376     610     3265  heroic bloodshed  1493843978\n2377     610   168248  Heroic Bloodshed  1493844270\n\n[2378 rows x 4 columns]",
      "text/html": "<div>\n<style scoped>\n    .dataframe tbody tr th:only-of-type {\n        vertical-align: middle;\n    }\n\n    .dataframe tbody tr th {\n        vertical-align: top;\n    }\n\n    .dataframe thead th {\n        text-align: right;\n    }\n</style>\n<table border=\"1\" class=\"dataframe\">\n  <thead>\n    <tr style=\"text-align: right;\">\n      <th></th>\n      <th>userId</th>\n      <th>movieId</th>\n      <th>tag</th>\n      <th>timestamp</th>\n    </tr>\n  </thead>\n  <tbody>\n    <tr>\n      <th>0</th>\n      <td>2</td>\n      <td>60756</td>\n      <td>funny</td>\n      <td>1445714994</td>\n    </tr>\n    <tr>\n      <th>1</th>\n      <td>2</td>\n      <td>60756</td>\n      <td>Highly quotable</td>\n      <td>1445714996</td>\n    </tr>\n    <tr>\n      <th>2</th>\n      <td>2</td>\n      <td>60756</td>\n      <td>will ferrell</td>\n      <td>1445714992</td>\n    </tr>\n    <tr>\n      <th>3</th>\n      <td>2</td>\n      <td>89774</td>\n      <td>Boxing story</td>\n      <td>1445715207</td>\n    </tr>\n    <tr>\n      <th>4</th>\n      <td>2</td>\n      <td>89774</td>\n      <td>MMA</td>\n      <td>1445715200</td>\n    </tr>\n    <tr>\n      <th>...</th>\n      <td>...</td>\n      <td>...</td>\n      <td>...</td>\n      <td>...</td>\n    </tr>\n    <tr>\n      <th>2373</th>\n      <td>606</td>\n      <td>6107</td>\n      <td>World War II</td>\n      <td>1178473747</td>\n    </tr>\n    <tr>\n      <th>2374</th>\n      <td>606</td>\n      <td>7382</td>\n      <td>for katie</td>\n      <td>1171234019</td>\n    </tr>\n    <tr>\n      <th>2375</th>\n      <td>610</td>\n      <td>3265</td>\n      <td>gun fu</td>\n      <td>1493843984</td>\n    </tr>\n    <tr>\n      <th>2376</th>\n      <td>610</td>\n      <td>3265</td>\n      <td>heroic bloodshed</td>\n      <td>1493843978</td>\n    </tr>\n    <tr>\n      <th>2377</th>\n      <td>610</td>\n      <td>168248</td>\n      <td>Heroic Bloodshed</td>\n      <td>1493844270</td>\n    </tr>\n  </tbody>\n</table>\n<p>2378 rows × 4 columns</p>\n</div>"
     },
     "execution_count": 34,
     "metadata": {},
     "output_type": "execute_result"
    }
   ],
   "source": [
    "# Merge with high ratings\n",
    "tagged_high_ratings = pd.merge(user_movie_pairs, all_tags_df, on=[\"userId\", \"movieId\"])\n",
    "print(tagged_high_ratings.shape)\n",
    "tagged_high_ratings"
   ]
  },
  {
   "cell_type": "code",
   "execution_count": 35,
   "id": "0b838328-0454-44b8-8fa7-fc5149760ae9",
   "metadata": {
    "ExecuteTime": {
     "end_time": "2025-05-29T15:09:05.129061Z",
     "start_time": "2025-05-29T15:00:53.106629Z"
    }
   },
   "outputs": [
    {
     "name": "stdout",
     "output_type": "stream",
     "text": [
      "(2378, 5)\n"
     ]
    },
    {
     "data": {
      "text/plain": "      userId  movieId               tag   timestamp  \\\n0          2    60756             funny  1445714994   \n1          2    60756   Highly quotable  1445714996   \n2          2    60756      will ferrell  1445714992   \n3          2    89774      Boxing story  1445715207   \n4          2    89774               MMA  1445715200   \n...      ...      ...               ...         ...   \n2373     606     6107      World War II  1178473747   \n2374     606     7382         for katie  1171234019   \n2375     610     3265            gun fu  1493843984   \n2376     610     3265  heroic bloodshed  1493843978   \n2377     610   168248  Heroic Bloodshed  1493844270   \n\n                           genres  \n0                          Comedy  \n1                          Comedy  \n2                          Comedy  \n3                           Drama  \n4                           Drama  \n...                           ...  \n2373                    Drama|War  \n2374       Drama|Mystery|Thriller  \n2375  Action|Crime|Drama|Thriller  \n2376  Action|Crime|Drama|Thriller  \n2377        Action|Crime|Thriller  \n\n[2378 rows x 5 columns]",
      "text/html": "<div>\n<style scoped>\n    .dataframe tbody tr th:only-of-type {\n        vertical-align: middle;\n    }\n\n    .dataframe tbody tr th {\n        vertical-align: top;\n    }\n\n    .dataframe thead th {\n        text-align: right;\n    }\n</style>\n<table border=\"1\" class=\"dataframe\">\n  <thead>\n    <tr style=\"text-align: right;\">\n      <th></th>\n      <th>userId</th>\n      <th>movieId</th>\n      <th>tag</th>\n      <th>timestamp</th>\n      <th>genres</th>\n    </tr>\n  </thead>\n  <tbody>\n    <tr>\n      <th>0</th>\n      <td>2</td>\n      <td>60756</td>\n      <td>funny</td>\n      <td>1445714994</td>\n      <td>Comedy</td>\n    </tr>\n    <tr>\n      <th>1</th>\n      <td>2</td>\n      <td>60756</td>\n      <td>Highly quotable</td>\n      <td>1445714996</td>\n      <td>Comedy</td>\n    </tr>\n    <tr>\n      <th>2</th>\n      <td>2</td>\n      <td>60756</td>\n      <td>will ferrell</td>\n      <td>1445714992</td>\n      <td>Comedy</td>\n    </tr>\n    <tr>\n      <th>3</th>\n      <td>2</td>\n      <td>89774</td>\n      <td>Boxing story</td>\n      <td>1445715207</td>\n      <td>Drama</td>\n    </tr>\n    <tr>\n      <th>4</th>\n      <td>2</td>\n      <td>89774</td>\n      <td>MMA</td>\n      <td>1445715200</td>\n      <td>Drama</td>\n    </tr>\n    <tr>\n      <th>...</th>\n      <td>...</td>\n      <td>...</td>\n      <td>...</td>\n      <td>...</td>\n      <td>...</td>\n    </tr>\n    <tr>\n      <th>2373</th>\n      <td>606</td>\n      <td>6107</td>\n      <td>World War II</td>\n      <td>1178473747</td>\n      <td>Drama|War</td>\n    </tr>\n    <tr>\n      <th>2374</th>\n      <td>606</td>\n      <td>7382</td>\n      <td>for katie</td>\n      <td>1171234019</td>\n      <td>Drama|Mystery|Thriller</td>\n    </tr>\n    <tr>\n      <th>2375</th>\n      <td>610</td>\n      <td>3265</td>\n      <td>gun fu</td>\n      <td>1493843984</td>\n      <td>Action|Crime|Drama|Thriller</td>\n    </tr>\n    <tr>\n      <th>2376</th>\n      <td>610</td>\n      <td>3265</td>\n      <td>heroic bloodshed</td>\n      <td>1493843978</td>\n      <td>Action|Crime|Drama|Thriller</td>\n    </tr>\n    <tr>\n      <th>2377</th>\n      <td>610</td>\n      <td>168248</td>\n      <td>Heroic Bloodshed</td>\n      <td>1493844270</td>\n      <td>Action|Crime|Thriller</td>\n    </tr>\n  </tbody>\n</table>\n<p>2378 rows × 5 columns</p>\n</div>"
     },
     "execution_count": 35,
     "metadata": {},
     "output_type": "execute_result"
    }
   ],
   "source": [
    "# Step 4: Retrieve genres associated with movieId\n",
    "\n",
    "def get_movie_genre(movie_id):\n",
    "    try:\n",
    "        movie = client.get_movie(movie_id)\n",
    "        return movie.genres\n",
    "    except:\n",
    "        return \"\"\n",
    "\n",
    "# Apply only to the unique movieIds that we have in the tags\n",
    "unique_movie_ids = tagged_high_ratings['movieId'].unique()\n",
    "\n",
    "movie_genres = {\n",
    "    movie_id: get_movie_genre(movie_id)\n",
    "    for movie_id in unique_movie_ids\n",
    "}\n",
    "\n",
    "# Add the genres column\n",
    "tagged_high_ratings['genres'] = tagged_high_ratings['movieId'].map(movie_genres)\n",
    "print(tagged_high_ratings.shape)\n",
    "tagged_high_ratings"
   ]
  },
  {
   "cell_type": "code",
   "execution_count": 36,
   "id": "605af338-a909-4551-bcdc-3029fc6ab625",
   "metadata": {
    "ExecuteTime": {
     "end_time": "2025-05-29T15:09:05.171180Z",
     "start_time": "2025-05-29T15:09:05.132183Z"
    }
   },
   "outputs": [
    {
     "data": {
      "text/plain": "      userId  movieId               tag   timestamp    genres\n0          2    60756             funny  1445714994    Comedy\n1          2    60756   Highly quotable  1445714996    Comedy\n2          2    60756      will ferrell  1445714992    Comedy\n3          2    89774      Boxing story  1445715207     Drama\n4          2    89774               MMA  1445715200     Drama\n...      ...      ...               ...         ...       ...\n2376     610     3265  heroic bloodshed  1493843978     Drama\n2376     610     3265  heroic bloodshed  1493843978  Thriller\n2377     610   168248  Heroic Bloodshed  1493844270    Action\n2377     610   168248  Heroic Bloodshed  1493844270     Crime\n2377     610   168248  Heroic Bloodshed  1493844270  Thriller\n\n[6664 rows x 5 columns]",
      "text/html": "<div>\n<style scoped>\n    .dataframe tbody tr th:only-of-type {\n        vertical-align: middle;\n    }\n\n    .dataframe tbody tr th {\n        vertical-align: top;\n    }\n\n    .dataframe thead th {\n        text-align: right;\n    }\n</style>\n<table border=\"1\" class=\"dataframe\">\n  <thead>\n    <tr style=\"text-align: right;\">\n      <th></th>\n      <th>userId</th>\n      <th>movieId</th>\n      <th>tag</th>\n      <th>timestamp</th>\n      <th>genres</th>\n    </tr>\n  </thead>\n  <tbody>\n    <tr>\n      <th>0</th>\n      <td>2</td>\n      <td>60756</td>\n      <td>funny</td>\n      <td>1445714994</td>\n      <td>Comedy</td>\n    </tr>\n    <tr>\n      <th>1</th>\n      <td>2</td>\n      <td>60756</td>\n      <td>Highly quotable</td>\n      <td>1445714996</td>\n      <td>Comedy</td>\n    </tr>\n    <tr>\n      <th>2</th>\n      <td>2</td>\n      <td>60756</td>\n      <td>will ferrell</td>\n      <td>1445714992</td>\n      <td>Comedy</td>\n    </tr>\n    <tr>\n      <th>3</th>\n      <td>2</td>\n      <td>89774</td>\n      <td>Boxing story</td>\n      <td>1445715207</td>\n      <td>Drama</td>\n    </tr>\n    <tr>\n      <th>4</th>\n      <td>2</td>\n      <td>89774</td>\n      <td>MMA</td>\n      <td>1445715200</td>\n      <td>Drama</td>\n    </tr>\n    <tr>\n      <th>...</th>\n      <td>...</td>\n      <td>...</td>\n      <td>...</td>\n      <td>...</td>\n      <td>...</td>\n    </tr>\n    <tr>\n      <th>2376</th>\n      <td>610</td>\n      <td>3265</td>\n      <td>heroic bloodshed</td>\n      <td>1493843978</td>\n      <td>Drama</td>\n    </tr>\n    <tr>\n      <th>2376</th>\n      <td>610</td>\n      <td>3265</td>\n      <td>heroic bloodshed</td>\n      <td>1493843978</td>\n      <td>Thriller</td>\n    </tr>\n    <tr>\n      <th>2377</th>\n      <td>610</td>\n      <td>168248</td>\n      <td>Heroic Bloodshed</td>\n      <td>1493844270</td>\n      <td>Action</td>\n    </tr>\n    <tr>\n      <th>2377</th>\n      <td>610</td>\n      <td>168248</td>\n      <td>Heroic Bloodshed</td>\n      <td>1493844270</td>\n      <td>Crime</td>\n    </tr>\n    <tr>\n      <th>2377</th>\n      <td>610</td>\n      <td>168248</td>\n      <td>Heroic Bloodshed</td>\n      <td>1493844270</td>\n      <td>Thriller</td>\n    </tr>\n  </tbody>\n</table>\n<p>6664 rows × 5 columns</p>\n</div>"
     },
     "execution_count": 36,
     "metadata": {},
     "output_type": "execute_result"
    }
   ],
   "source": [
    "# Step 5: Final aggregation: genre ↔ tag ↔ count\n",
    "\n",
    "# Split genres when we have \"|\"\n",
    "tagged_high_ratings['genres'] = tagged_high_ratings['genres'].str.split('|')\n",
    "tagged_exploded = tagged_high_ratings.explode('genres')\n",
    "\n",
    "tagged_exploded"
   ]
  },
  {
   "cell_type": "code",
   "execution_count": 37,
   "id": "77c6813b-0b84-48b2-aaba-0afbd9d7f475",
   "metadata": {
    "ExecuteTime": {
     "end_time": "2025-05-29T15:09:05.208442Z",
     "start_time": "2025-05-29T15:09:05.173260Z"
    }
   },
   "outputs": [
    {
     "data": {
      "text/plain": "        genres                 tag  count\n1971     Drama    In Netflix queue     20\n2159     Drama         atmospheric     19\n4321  Thriller        twist ending     16\n3280   Mystery        twist ending     14\n4304  Thriller            suspense     14\n...        ...                 ...    ...\n4467   Western               silly      1\n4468   Western    tension building      1\n4469   Western             violent      1\n4470   Western  visually appealing      1\n5       Action         Afghanistan      1\n\n[4472 rows x 3 columns]",
      "text/html": "<div>\n<style scoped>\n    .dataframe tbody tr th:only-of-type {\n        vertical-align: middle;\n    }\n\n    .dataframe tbody tr th {\n        vertical-align: top;\n    }\n\n    .dataframe thead th {\n        text-align: right;\n    }\n</style>\n<table border=\"1\" class=\"dataframe\">\n  <thead>\n    <tr style=\"text-align: right;\">\n      <th></th>\n      <th>genres</th>\n      <th>tag</th>\n      <th>count</th>\n    </tr>\n  </thead>\n  <tbody>\n    <tr>\n      <th>1971</th>\n      <td>Drama</td>\n      <td>In Netflix queue</td>\n      <td>20</td>\n    </tr>\n    <tr>\n      <th>2159</th>\n      <td>Drama</td>\n      <td>atmospheric</td>\n      <td>19</td>\n    </tr>\n    <tr>\n      <th>4321</th>\n      <td>Thriller</td>\n      <td>twist ending</td>\n      <td>16</td>\n    </tr>\n    <tr>\n      <th>3280</th>\n      <td>Mystery</td>\n      <td>twist ending</td>\n      <td>14</td>\n    </tr>\n    <tr>\n      <th>4304</th>\n      <td>Thriller</td>\n      <td>suspense</td>\n      <td>14</td>\n    </tr>\n    <tr>\n      <th>...</th>\n      <td>...</td>\n      <td>...</td>\n      <td>...</td>\n    </tr>\n    <tr>\n      <th>4467</th>\n      <td>Western</td>\n      <td>silly</td>\n      <td>1</td>\n    </tr>\n    <tr>\n      <th>4468</th>\n      <td>Western</td>\n      <td>tension building</td>\n      <td>1</td>\n    </tr>\n    <tr>\n      <th>4469</th>\n      <td>Western</td>\n      <td>violent</td>\n      <td>1</td>\n    </tr>\n    <tr>\n      <th>4470</th>\n      <td>Western</td>\n      <td>visually appealing</td>\n      <td>1</td>\n    </tr>\n    <tr>\n      <th>5</th>\n      <td>Action</td>\n      <td>Afghanistan</td>\n      <td>1</td>\n    </tr>\n  </tbody>\n</table>\n<p>4472 rows × 3 columns</p>\n</div>"
     },
     "execution_count": 37,
     "metadata": {},
     "output_type": "execute_result"
    }
   ],
   "source": [
    "# Count the Genre / Tag combinations\n",
    "genre_tag_summary = (\n",
    "    tagged_exploded\n",
    "    .groupby(['genres', 'tag'])      # Group by 'genres' and 'tag'\n",
    "    .size()                         # Count the number of occurrences in each group\n",
    "    .reset_index(name='count')      # Reset the index and rename the count column to 'count'\n",
    "    .sort_values(by='count', ascending=False)  # Sort the results by 'count' in descending order\n",
    ")\n",
    "\n",
    "genre_tag_summary"
   ]
  },
  {
   "cell_type": "markdown",
   "id": "40fd3533-71ad-4877-a7a7-6382b2283e5f",
   "metadata": {},
   "source": [
    "# Highlights\n",
    "This table genre_tag_summary provides a cross-analysis between movie genres and the most commonly used tags by users who have given a high rating (rating >= 4.0). Here are some interesting comments and interpretations:\n",
    "\n",
    "# What the table shows\n",
    "-Each row represents a unique combination of genre and tag.\n",
    "\n",
    "-The count column indicates how many times a certain tag has been associated with a movie of a certain genre, in the context of a high rating.\n",
    "\n",
    "# Examples\n",
    "\n",
    "-Drama + In Netflix queue was tagged 20 times for well-rated movies in the Drama genre.\n",
    "\n",
    "-Thriller + twist ending was tagged 16 times, giving clues about what people like in thrillers.\n",
    "\n",
    "# Business interpretations\n",
    "### Discovering viewer preferences by genre:\n",
    "\n",
    "-Users like dramatic movies that they plan to watch later (In Netflix queue) — this tag might reflect interest or indirect recommendation.\n",
    "\n",
    "Thrillers with twist endings or a suspenseful atmosphere are particularly appreciated → prioritize these for recommendations.\n",
    "\n",
    "### Usefulness for a recommendation engine:\n",
    "\n",
    "By analyzing the tags most associated with highly rated movies in each genre, personalized recommendations can be better targeted.\n",
    "\n",
    "For example, recommend “Mystery” movies with twists to those who like well-rated “Thrillers” with that tag.\n",
    "\n",
    "### Marketing and categorization insights:\n",
    "\n",
    "Platforms can create categories like:\n",
    "\n",
    "-“Mystery with a Twist”\n",
    "\n",
    "-“Atmospheric Dramas”\n",
    "\n",
    "-“Suspenseful Thrillers”\n",
    "\n",
    "These groupings can enhance engagement by better matching what people like with what’s offered to them.\n",
    "\n",
    "### Targeted Campaigns Highlighting Popular Tags:\n",
    "\n",
    "-High counts of tags such as “In Netflix queue” and “atmospheric” in Drama indicate user interest that marketing teams can leverage to promote dramas with these appealing qualities.\n",
    "\n",
    "### Cross-Genre Promotion Opportunities:\n",
    "\n",
    "The popularity of “twist ending” in both Thriller and Mystery genres suggests cross-promotion potential, encouraging users who enjoy one genre to explore the other.\n",
    "\n",
    "### Niche Tag Identification for Specialized Content:\n",
    "\n",
    "Less frequent tags like “Borg” (Action) or “morality” (Western) reveal niche interests that could be the focus of micro-campaigns or specialized collections to engage specific audience segments."
   ]
  }
 ],
 "metadata": {
  "kernelspec": {
   "display_name": "Python 3 (ipykernel)",
   "language": "python",
   "name": "python3"
  },
  "language_info": {
   "codemirror_mode": {
    "name": "ipython",
    "version": 3
   },
   "file_extension": ".py",
   "mimetype": "text/x-python",
   "name": "python",
   "nbconvert_exporter": "python",
   "pygments_lexer": "ipython3",
   "version": "3.12.2"
  }
 },
 "nbformat": 4,
 "nbformat_minor": 5
}
